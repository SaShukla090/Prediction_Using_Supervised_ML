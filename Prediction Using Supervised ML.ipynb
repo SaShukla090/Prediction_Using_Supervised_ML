{
 "cells": [
  {
   "cell_type": "markdown",
   "id": "f3a1019c",
   "metadata": {},
   "source": [
    "## INTERN: Shivam Ashok Shukla\n"
   ]
  },
  {
   "cell_type": "markdown",
   "id": "6bbfb3dd",
   "metadata": {},
   "source": [
    "# Data Science and Business Analytics Intern at The Sparks Foundation"
   ]
  },
  {
   "cell_type": "markdown",
   "id": "6410ef0d",
   "metadata": {},
   "source": [
    "# TASK1: Prediction using Supervised ML\n",
    "\n",
    "## Prediction of score of student in exam based number of study hours of student"
   ]
  },
  {
   "cell_type": "markdown",
   "id": "cfca7619",
   "metadata": {},
   "source": [
    "## Importing Necessary libraries"
   ]
  },
  {
   "cell_type": "code",
   "execution_count": 1,
   "id": "944f3b6f",
   "metadata": {},
   "outputs": [],
   "source": [
    "import pandas as pd\n",
    "import numpy as np\n",
    "import seaborn as sns\n",
    "import matplotlib.pyplot as plt\n",
    "from sklearn.model_selection import train_test_split\n",
    "%matplotlib inline\n"
   ]
  },
  {
   "cell_type": "markdown",
   "id": "794a16bd",
   "metadata": {},
   "source": [
    "## Dataset Reading and Processing."
   ]
  },
  {
   "cell_type": "code",
   "execution_count": 2,
   "id": "9d0aabe3",
   "metadata": {},
   "outputs": [],
   "source": [
    "#reading the data\n",
    "Data = pd.read_csv(\"data (1).csv\")"
   ]
  },
  {
   "cell_type": "code",
   "execution_count": 3,
   "id": "00754431",
   "metadata": {},
   "outputs": [
    {
     "data": {
      "text/html": [
       "<div>\n",
       "<style scoped>\n",
       "    .dataframe tbody tr th:only-of-type {\n",
       "        vertical-align: middle;\n",
       "    }\n",
       "\n",
       "    .dataframe tbody tr th {\n",
       "        vertical-align: top;\n",
       "    }\n",
       "\n",
       "    .dataframe thead th {\n",
       "        text-align: right;\n",
       "    }\n",
       "</style>\n",
       "<table border=\"1\" class=\"dataframe\">\n",
       "  <thead>\n",
       "    <tr style=\"text-align: right;\">\n",
       "      <th></th>\n",
       "      <th>Hours</th>\n",
       "      <th>Scores</th>\n",
       "    </tr>\n",
       "  </thead>\n",
       "  <tbody>\n",
       "    <tr>\n",
       "      <th>0</th>\n",
       "      <td>2.5</td>\n",
       "      <td>21</td>\n",
       "    </tr>\n",
       "    <tr>\n",
       "      <th>1</th>\n",
       "      <td>5.1</td>\n",
       "      <td>47</td>\n",
       "    </tr>\n",
       "    <tr>\n",
       "      <th>2</th>\n",
       "      <td>3.2</td>\n",
       "      <td>27</td>\n",
       "    </tr>\n",
       "    <tr>\n",
       "      <th>3</th>\n",
       "      <td>8.5</td>\n",
       "      <td>75</td>\n",
       "    </tr>\n",
       "    <tr>\n",
       "      <th>4</th>\n",
       "      <td>3.5</td>\n",
       "      <td>30</td>\n",
       "    </tr>\n",
       "  </tbody>\n",
       "</table>\n",
       "</div>"
      ],
      "text/plain": [
       "   Hours  Scores\n",
       "0    2.5      21\n",
       "1    5.1      47\n",
       "2    3.2      27\n",
       "3    8.5      75\n",
       "4    3.5      30"
      ]
     },
     "execution_count": 3,
     "metadata": {},
     "output_type": "execute_result"
    }
   ],
   "source": [
    "#first five rows of dataset\n",
    "Data.head()  "
   ]
  },
  {
   "cell_type": "code",
   "execution_count": 4,
   "id": "7cb212fa",
   "metadata": {},
   "outputs": [
    {
     "data": {
      "text/html": [
       "<div>\n",
       "<style scoped>\n",
       "    .dataframe tbody tr th:only-of-type {\n",
       "        vertical-align: middle;\n",
       "    }\n",
       "\n",
       "    .dataframe tbody tr th {\n",
       "        vertical-align: top;\n",
       "    }\n",
       "\n",
       "    .dataframe thead th {\n",
       "        text-align: right;\n",
       "    }\n",
       "</style>\n",
       "<table border=\"1\" class=\"dataframe\">\n",
       "  <thead>\n",
       "    <tr style=\"text-align: right;\">\n",
       "      <th></th>\n",
       "      <th>Hours</th>\n",
       "      <th>Scores</th>\n",
       "    </tr>\n",
       "  </thead>\n",
       "  <tbody>\n",
       "    <tr>\n",
       "      <th>20</th>\n",
       "      <td>2.7</td>\n",
       "      <td>30</td>\n",
       "    </tr>\n",
       "    <tr>\n",
       "      <th>21</th>\n",
       "      <td>4.8</td>\n",
       "      <td>54</td>\n",
       "    </tr>\n",
       "    <tr>\n",
       "      <th>22</th>\n",
       "      <td>3.8</td>\n",
       "      <td>35</td>\n",
       "    </tr>\n",
       "    <tr>\n",
       "      <th>23</th>\n",
       "      <td>6.9</td>\n",
       "      <td>76</td>\n",
       "    </tr>\n",
       "    <tr>\n",
       "      <th>24</th>\n",
       "      <td>7.8</td>\n",
       "      <td>86</td>\n",
       "    </tr>\n",
       "  </tbody>\n",
       "</table>\n",
       "</div>"
      ],
      "text/plain": [
       "    Hours  Scores\n",
       "20    2.7      30\n",
       "21    4.8      54\n",
       "22    3.8      35\n",
       "23    6.9      76\n",
       "24    7.8      86"
      ]
     },
     "execution_count": 4,
     "metadata": {},
     "output_type": "execute_result"
    }
   ],
   "source": [
    "#last five rows of data set\n",
    "Data.tail()"
   ]
  },
  {
   "cell_type": "code",
   "execution_count": 5,
   "id": "e46ee7f9",
   "metadata": {},
   "outputs": [
    {
     "data": {
      "text/plain": [
       "(25, 2)"
      ]
     },
     "execution_count": 5,
     "metadata": {},
     "output_type": "execute_result"
    }
   ],
   "source": [
    "#printing the dimension(rows and  column) of data set\n",
    "Data.shape"
   ]
  },
  {
   "cell_type": "code",
   "execution_count": 6,
   "id": "1152d855",
   "metadata": {},
   "outputs": [
    {
     "name": "stdout",
     "output_type": "stream",
     "text": [
      "<class 'pandas.core.frame.DataFrame'>\n",
      "RangeIndex: 25 entries, 0 to 24\n",
      "Data columns (total 2 columns):\n",
      " #   Column  Non-Null Count  Dtype  \n",
      "---  ------  --------------  -----  \n",
      " 0   Hours   25 non-null     float64\n",
      " 1   Scores  25 non-null     int64  \n",
      "dtypes: float64(1), int64(1)\n",
      "memory usage: 528.0 bytes\n"
     ]
    }
   ],
   "source": [
    "#getting info about data\n",
    "Data.info()\n"
   ]
  },
  {
   "cell_type": "raw",
   "id": "886317c7",
   "metadata": {},
   "source": [
    "No missing points in the data set"
   ]
  },
  {
   "cell_type": "raw",
   "id": "410812fb",
   "metadata": {},
   "source": [
    "Correlation matrix"
   ]
  },
  {
   "cell_type": "code",
   "execution_count": 7,
   "id": "9eca4616",
   "metadata": {},
   "outputs": [
    {
     "data": {
      "text/html": [
       "<div>\n",
       "<style scoped>\n",
       "    .dataframe tbody tr th:only-of-type {\n",
       "        vertical-align: middle;\n",
       "    }\n",
       "\n",
       "    .dataframe tbody tr th {\n",
       "        vertical-align: top;\n",
       "    }\n",
       "\n",
       "    .dataframe thead th {\n",
       "        text-align: right;\n",
       "    }\n",
       "</style>\n",
       "<table border=\"1\" class=\"dataframe\">\n",
       "  <thead>\n",
       "    <tr style=\"text-align: right;\">\n",
       "      <th></th>\n",
       "      <th>Hours</th>\n",
       "      <th>Scores</th>\n",
       "    </tr>\n",
       "  </thead>\n",
       "  <tbody>\n",
       "    <tr>\n",
       "      <th>Hours</th>\n",
       "      <td>1.000000</td>\n",
       "      <td>0.976191</td>\n",
       "    </tr>\n",
       "    <tr>\n",
       "      <th>Scores</th>\n",
       "      <td>0.976191</td>\n",
       "      <td>1.000000</td>\n",
       "    </tr>\n",
       "  </tbody>\n",
       "</table>\n",
       "</div>"
      ],
      "text/plain": [
       "           Hours    Scores\n",
       "Hours   1.000000  0.976191\n",
       "Scores  0.976191  1.000000"
      ]
     },
     "execution_count": 7,
     "metadata": {},
     "output_type": "execute_result"
    }
   ],
   "source": [
    "correlation = Data.corr()\n",
    "correlation"
   ]
  },
  {
   "cell_type": "raw",
   "id": "853f0abc",
   "metadata": {},
   "source": [
    "we can conlcude that study hours and score of student have highly positive correlation. "
   ]
  },
  {
   "cell_type": "code",
   "execution_count": 8,
   "id": "99acb98c",
   "metadata": {},
   "outputs": [
    {
     "data": {
      "text/plain": [
       "<AxesSubplot:>"
      ]
     },
     "execution_count": 8,
     "metadata": {},
     "output_type": "execute_result"
    },
    {
     "data": {
      "image/png": "[encoded data removed]",
      "text/plain": [
       "<Figure size 1152x576 with 2 Axes>"
      ]
     },
     "metadata": {
      "needs_background": "light"
     },
     "output_type": "display_data"
    }
   ],
   "source": [
    "# constructing a heatmap to understand the correaltion\n",
    "plt.figure(figsize=(16,8))\n",
    "sns.heatmap(data=correlation,cbar=True,square=True,fmt='.2f',annot=True,annot_kws={'size':8},cmap='Reds')"
   ]
  },
  {
   "cell_type": "code",
   "execution_count": 9,
   "id": "7dfdfdf3",
   "metadata": {},
   "outputs": [],
   "source": [
    "# Splitting the Features and Target\n",
    "X = Data[\"Hours\"]\n",
    "y = Data[\"Scores\"]"
   ]
  },
  {
   "cell_type": "code",
   "execution_count": 10,
   "id": "75e7ee0a",
   "metadata": {},
   "outputs": [
    {
     "data": {
      "text/plain": [
       "dtype('float64')"
      ]
     },
     "execution_count": 10,
     "metadata": {},
     "output_type": "execute_result"
    }
   ],
   "source": [
    "X.dtype"
   ]
  },
  {
   "cell_type": "code",
   "execution_count": 11,
   "id": "5599ce0d",
   "metadata": {},
   "outputs": [
    {
     "data": {
      "text/plain": [
       "<AxesSubplot:xlabel='Scores', ylabel='Count'>"
      ]
     },
     "execution_count": 11,
     "metadata": {},
     "output_type": "execute_result"
    },
    {
     "data": {
      "image/png": "[encoded data removed]",
      "text/plain": [
       "<Figure size 432x288 with 1 Axes>"
      ]
     },
     "metadata": {
      "needs_background": "light"
     },
     "output_type": "display_data"
    }
   ],
   "source": [
    "# Checking the value of percentage\n",
    "sns.histplot(y,color = 'green')"
   ]
  },
  {
   "cell_type": "code",
   "execution_count": 12,
   "id": "eb4ba041",
   "metadata": {},
   "outputs": [
    {
     "data": {
      "text/plain": [
       "<AxesSubplot:xlabel='Hours', ylabel='Scores'>"
      ]
     },
     "execution_count": 12,
     "metadata": {},
     "output_type": "execute_result"
    },
    {
     "data": {
      "image/png": "[encoded data removed]",
      "text/plain": [
       "<Figure size 432x288 with 1 Axes>"
      ]
     },
     "metadata": {
      "needs_background": "light"
     },
     "output_type": "display_data"
    }
   ],
   "source": [
    "sns.regplot(x=X,y = y)  "
   ]
  },
  {
   "cell_type": "code",
   "execution_count": 13,
   "id": "ff481214",
   "metadata": {},
   "outputs": [],
   "source": [
    "#Splitting into training and testing data\n",
    "X_train,X_test,y_train,y_test = train_test_split(X,y,test_size=.20,random_state=2)"
   ]
  },
  {
   "cell_type": "code",
   "execution_count": 14,
   "id": "92305676",
   "metadata": {},
   "outputs": [],
   "source": [
    "# reshaping the matrix dimension.\n",
    "Xx = X_train.to_numpy().reshape(X_train.shape[0],1)\n",
    "Yy = y_train.to_numpy().reshape(y_train.shape[0],1)\n",
    "Xx_test = X_test.to_numpy().reshape(X_test.shape[0],1)\n",
    "Yy_test = y_test.to_numpy().reshape(y_test.shape[0],1)\n"
   ]
  },
  {
   "cell_type": "markdown",
   "id": "e270c18a",
   "metadata": {},
   "source": [
    "## Building the Linear Regression Model"
   ]
  },
  {
   "cell_type": "code",
   "execution_count": 15,
   "id": "dbfde7c7",
   "metadata": {},
   "outputs": [],
   "source": [
    "#Declartion of Weights (y = Wb + b)\n",
    "W = np.zeros((1,1))\n",
    "b = 0"
   ]
  },
  {
   "cell_type": "code",
   "execution_count": 16,
   "id": "7cceea63",
   "metadata": {},
   "outputs": [],
   "source": [
    "# Size of data\n",
    "m = X_train.shape[0]"
   ]
  },
  {
   "cell_type": "code",
   "execution_count": 17,
   "id": "8bd31bef",
   "metadata": {},
   "outputs": [],
   "source": [
    "#linear Equation\n",
    "yhat = np.dot(Xx,W) + b\n",
    "# Cost Function\n",
    "J = (1/2*m) * np.sum((yhat - Yy)**2) \n"
   ]
  },
  {
   "cell_type": "code",
   "execution_count": 18,
   "id": "03e3bfac",
   "metadata": {},
   "outputs": [
    {
     "name": "stdout",
     "output_type": "stream",
     "text": [
      "[[0.]] 0\n",
      "(20,) (1, 1)\n"
     ]
    }
   ],
   "source": [
    "print(W,b)\n",
    "print(X_train.shape,W.shape)"
   ]
  },
  {
   "cell_type": "markdown",
   "id": "b84da352",
   "metadata": {},
   "source": [
    "## Model Training Using Batch Gradient Descent"
   ]
  },
  {
   "cell_type": "code",
   "execution_count": 19,
   "id": "157ff1d9",
   "metadata": {},
   "outputs": [
    {
     "name": "stdout",
     "output_type": "stream",
     "text": [
      "cost = 1669.375\n",
      "cost = 760.8390952639844\n",
      "cost = 349.85619789661104\n",
      "cost = 164.4334440332285\n",
      "cost = 81.10756126208908\n",
      "cost = 43.887395313244355\n",
      "cost = 27.41544389428429\n",
      "cost = 20.23119168172194\n",
      "cost = 17.170881762961272\n",
      "cost = 15.918679704107356\n",
      "cost = 15.44333199559402\n",
      "cost = 15.290641271731417\n",
      "cost = 15.264025404959277\n",
      "cost = 15.28081134816481\n",
      "cost = 15.307938553888915\n",
      "cost = 15.333431685657317\n",
      "cost = 15.353908128408802\n",
      "cost = 15.369221119644372\n",
      "cost = 15.380242359206097\n",
      "cost = 15.388001139973955\n",
      "cost = 15.393392348334647\n",
      "cost = 15.397110772886695\n",
      "cost = 15.39966648252824\n",
      "cost = 15.40142233758449\n",
      "cost = 15.402631629276986\n",
      "cost = 15.403469076109324\n",
      "cost = 15.404054279836402\n",
      "cost = 15.404468704525733\n",
      "cost = 15.404767654777828\n",
      "cost = 15.404988593642209\n"
     ]
    }
   ],
   "source": [
    "cost = []\n",
    "iteration = []\n",
    "alpha = 0.001\n",
    "for i in range(30):\n",
    "    yhat = np.dot(Xx,W) + b                    # cost fucntion\n",
    "    db = 1/m * np.sum(yhat - Yy)               # derative of J w.r.t b\n",
    "    dw = 1/m * np.sum((yhat - Yy)*Yy)          # derative og J w.r.t W\n",
    "    W = W - alpha*dw                           # updating the weigths\n",
    "    b = b - alpha*db\n",
    "    J = (1/(2*m)) * np.sum((yhat - Yy)**2)     # re calculating the cost after updating the weights\n",
    "    if i%1==0:                               # printing the cost after every 100 iteration of gradient Descent\n",
    "        print(\"cost =\",J) \n",
    "    cost.append(J)\n",
    "    iteration.append(i)\n",
    "        \n",
    "\n",
    "\n",
    "\n",
    "        "
   ]
  },
  {
   "cell_type": "code",
   "execution_count": 20,
   "id": "3c680c15",
   "metadata": {},
   "outputs": [
    {
     "data": {
      "text/plain": [
       "[<matplotlib.lines.Line2D at 0x2e07e5424f0>]"
      ]
     },
     "execution_count": 20,
     "metadata": {},
     "output_type": "execute_result"
    },
    {
     "data": {
      "image/png": "[encoded data removed]",
      "text/plain": [
       "<Figure size 432x288 with 1 Axes>"
      ]
     },
     "metadata": {
      "needs_background": "light"
     },
     "output_type": "display_data"
    }
   ],
   "source": [
    "plt.plot(iteration,cost)"
   ]
  },
  {
   "cell_type": "code",
   "execution_count": 21,
   "id": "8cd76fee",
   "metadata": {},
   "outputs": [],
   "source": [
    "# for i in range(25): print(Yy[i][0],yhat[i][0])\n",
    "def prediction(x):\n",
    "    yhat = np.dot(x,W) + b\n",
    "    return yhat"
   ]
  },
  {
   "cell_type": "markdown",
   "id": "26ae6b21",
   "metadata": {},
   "source": [
    "# Finding  the accuracy of Linear Regression Model on test set and train set"
   ]
  },
  {
   "cell_type": "code",
   "execution_count": 22,
   "id": "370f86e9",
   "metadata": {},
   "outputs": [
    {
     "name": "stdout",
     "output_type": "stream",
     "text": [
      "train accuracy: 88.75945646987533 %\n",
      "test accuracy: 82.44011454146359 %\n"
     ]
    }
   ],
   "source": [
    "Y_prediction_train = prediction(Xx)\n",
    "Xx_test = X_test.to_numpy().reshape(X_test.shape[0],1)\n",
    "Y_prediction_test = prediction(Xx_test)\n",
    "\n",
    "print(\"train accuracy: {} %\".format(100-np.mean(np.abs(Y_prediction_train - Yy)/Yy) * 100))\n",
    "print(\"test accuracy: {} %\".format(100-np.mean(np.abs(Y_prediction_test - Yy_test)/Yy_test) * 100))"
   ]
  },
  {
   "cell_type": "code",
   "execution_count": 23,
   "id": "128c15ed",
   "metadata": {},
   "outputs": [
    {
     "data": {
      "text/plain": [
       "array([[95.00890803]])"
      ]
     },
     "execution_count": 23,
     "metadata": {},
     "output_type": "execute_result"
    }
   ],
   "source": [
    "prediction(9.25)"
   ]
  },
  {
   "cell_type": "markdown",
   "id": "729fe571",
   "metadata": {},
   "source": [
    "# From the model we can predict that if student studies for 9.25hrs/day  then he/she wil score 95.00% in exam"
   ]
  },
  {
   "cell_type": "code",
   "execution_count": null,
   "id": "16a755be",
   "metadata": {},
   "outputs": [],
   "source": []
  }
 ],
 "metadata": {
  "kernelspec": {
   "display_name": "Python 3 (ipykernel)",
   "language": "python",
   "name": "python3"
  },
  "language_info": {
   "codemirror_mode": {
    "name": "ipython",
    "version": 3
   },
   "file_extension": ".py",
   "mimetype": "text/x-python",
   "name": "python",
   "nbconvert_exporter": "python",
   "pygments_lexer": "ipython3",
   "version": "3.9.4"
  }
 },
 "nbformat": 4,
 "nbformat_minor": 5
}
